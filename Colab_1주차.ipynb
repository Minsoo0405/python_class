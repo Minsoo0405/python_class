{
  "cells": [
    {
      "cell_type": "code",
      "execution_count": 1,
      "metadata": {
        "id": "_Ez5sPPVwhNL"
      },
      "outputs": [],
      "source": [
        "# 엑셀 시트 A1 번호를 만들어 저장하는 코드\n",
        "from openpyxl import Workbook\n",
        "\n",
        "wb= Workbook()\n",
        "sheet = wb.active\n",
        "\n",
        "sheet['A1'] = '번호'\n",
        "\n",
        "wb.save(\"샘플파일.xlsx\")\n",
        "wb.close()"
      ]
    },
    {
      "cell_type": "code",
      "execution_count": 5,
      "metadata": {
        "colab": {
          "base_uri": "https://localhost:8080/"
        },
        "id": "O9DxZ_SzVdR9",
        "outputId": "48ecc41b-351a-4e07-dcd3-72a09390c9a3"
      },
      "outputs": [
        {
          "name": "stdout",
          "output_type": "stream",
          "text": [
            "1 사과 100\n",
            "2 배 500\n",
            "3 딸기 200\n",
            "4 감 1000\n"
          ]
        }
      ],
      "source": [
        "import openpyxl\n",
        "wb = openpyxl.load_workbook('./content/샘플파일.xlsx')\n",
        "sheet = wb['Sheet']\n",
        "\n",
        "rows = list(sheet.rows)[1:]\n",
        "\n",
        "for row in rows:\n",
        "  print(row[0].value, row[1].value, row[2].value)"
      ]
    },
    {
      "cell_type": "code",
      "execution_count": 7,
      "metadata": {
        "colab": {
          "base_uri": "https://localhost:8080/"
        },
        "id": "VQNXy3hzcb5-",
        "outputId": "bbd00a85-b052-4ece-bf32-ee4517a847bd"
      },
      "outputs": [],
      "source": [
        "import requests\n",
        "from bs4 import BeautifulSoup\n",
        "\n",
        "from openpyxl import Workbook\n",
        "\n",
        "wb = Workbook()\n",
        "sheet = wb.active\n",
        "keyword = \"삼성전자\"\n",
        "headers = {'User-Agent' : 'Mozilla/5.0 (Windows NT 10.0; Win64; x64)AppleWebKit/537.36 (KHTML, like Gecko) Chrome/73.0.3683.86 Safari/537.36'}\n",
        "data = requests.get(f'https://search.naver.com/search.naver?where=news&ie=utf8&sm=nws_hty&query=삼성전자',headers=headers)\n",
        "\n",
        "soup = BeautifulSoup(data.text, 'html.parser')\n",
        "lis = soup.select('#main_pack > section > div > div.group_news > ul > li')\n",
        "\n",
        "for li in lis:\n",
        "  a = li.select_one('a.news_tit')\n",
        "  row = [a.text, a['href']]\n",
        "  sheet.append(row)\n",
        "\n",
        "wb.save(f\"{keyword}.xlsx\")\n",
        "wb.close()"
      ]
    },
    {
      "cell_type": "code",
      "execution_count": null,
      "metadata": {
        "colab": {
          "base_uri": "https://localhost:8080/",
          "height": 170
        },
        "id": "bNWJWja-crjz",
        "outputId": "137b612a-8684-4159-fb5d-d8d910e11259"
      },
      "outputs": [
        {
          "ename": "NameError",
          "evalue": "ignored",
          "output_type": "error",
          "traceback": [
            "\u001b[0;31m---------------------------------------------------------------------------\u001b[0m",
            "\u001b[0;31mNameError\u001b[0m                                 Traceback (most recent call last)",
            "\u001b[0;32m<ipython-input-31-82724b372f00>\u001b[0m in \u001b[0;36m<module>\u001b[0;34m\u001b[0m\n\u001b[0;32m----> 1\u001b[0;31m \u001b[0mget_news\u001b[0m\u001b[0;34m(\u001b[0m\u001b[0;34m'삼성전자'\u001b[0m\u001b[0;34m)\u001b[0m\u001b[0;34m\u001b[0m\u001b[0;34m\u001b[0m\u001b[0m\n\u001b[0m",
            "\u001b[0;31mNameError\u001b[0m: name 'get_news' is not defined"
          ]
        }
      ],
      "source": [
        "get_news('삼성전자')"
      ]
    }
  ],
  "metadata": {
    "colab": {
      "collapsed_sections": [],
      "provenance": []
    },
    "kernelspec": {
      "display_name": "Python 3.9.12 ('base')",
      "language": "python",
      "name": "python3"
    },
    "language_info": {
      "codemirror_mode": {
        "name": "ipython",
        "version": 3
      },
      "file_extension": ".py",
      "mimetype": "text/x-python",
      "name": "python",
      "nbconvert_exporter": "python",
      "pygments_lexer": "ipython3",
      "version": "3.9.12"
    },
    "vscode": {
      "interpreter": {
        "hash": "40d3a090f54c6569ab1632332b64b2c03c39dcf918b08424e98f38b5ae0af88f"
      }
    }
  },
  "nbformat": 4,
  "nbformat_minor": 0
}
