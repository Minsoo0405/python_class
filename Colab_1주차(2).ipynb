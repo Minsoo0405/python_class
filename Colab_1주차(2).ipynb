{
  "nbformat": 4,
  "nbformat_minor": 0,
  "metadata": {
    "colab": {
      "provenance": [],
      "collapsed_sections": []
    },
    "kernelspec": {
      "name": "python3",
      "display_name": "Python 3"
    },
    "language_info": {
      "name": "python"
    }
  },
  "cells": [
    {
      "cell_type": "code",
      "source": [
        "# 엑셀 시트 A1 번호를 만들어 저장하는 코드\n",
        "from openpyxl import Workbook\n",
        "\n",
        "wb= Workbook()\n",
        "sheet = wb.active\n",
        "\n",
        "sheet['A1'] = '번호'\n",
        "\n",
        "wb.save(\"샘플파일.xlsx\")\n",
        "wb.close()"
      ],
      "metadata": {
        "id": "_Ez5sPPVwhNL"
      },
      "execution_count": null,
      "outputs": []
    },
    {
      "cell_type": "code",
      "source": [
        "import openpyxl\n",
        "wb = openpyxl.load_workbook('/content/샘플파일.xlsx')\n",
        "sheet = wb['Sheet']\n",
        "\n",
        "rows = list(sheet.rows)[1:]\n",
        "\n",
        "for row in rows:\n",
        "  print(row[0].value, row[1].value, row[2].value)"
      ],
      "metadata": {
        "colab": {
          "base_uri": "https://localhost:8080/"
        },
        "id": "O9DxZ_SzVdR9",
        "outputId": "48ecc41b-351a-4e07-dcd3-72a09390c9a3"
      },
      "execution_count": null,
      "outputs": [
        {
          "output_type": "stream",
          "name": "stdout",
          "text": [
            "1 사과 100\n",
            "2 배 500\n",
            "3 딸기 200\n",
            "4 감 1000\n"
          ]
        }
      ]
    },
    {
      "cell_type": "code",
      "source": [
        "!pip install bs4 requests"
      ],
      "metadata": {
        "colab": {
          "base_uri": "https://localhost:8080/"
        },
        "id": "OtFgYB-m5htv",
        "outputId": "f18e7630-111a-4fed-966a-9146dcd46c0a"
      },
      "execution_count": 1,
      "outputs": [
        {
          "output_type": "stream",
          "name": "stdout",
          "text": [
            "Looking in indexes: https://pypi.org/simple, https://us-python.pkg.dev/colab-wheels/public/simple/\n",
            "Requirement already satisfied: bs4 in /usr/local/lib/python3.7/dist-packages (0.0.1)\n",
            "Requirement already satisfied: requests in /usr/local/lib/python3.7/dist-packages (2.23.0)\n",
            "Requirement already satisfied: beautifulsoup4 in /usr/local/lib/python3.7/dist-packages (from bs4) (4.6.3)\n",
            "Requirement already satisfied: chardet<4,>=3.0.2 in /usr/local/lib/python3.7/dist-packages (from requests) (3.0.4)\n",
            "Requirement already satisfied: idna<3,>=2.5 in /usr/local/lib/python3.7/dist-packages (from requests) (2.10)\n",
            "Requirement already satisfied: certifi>=2017.4.17 in /usr/local/lib/python3.7/dist-packages (from requests) (2022.9.24)\n",
            "Requirement already satisfied: urllib3!=1.25.0,!=1.25.1,<1.26,>=1.21.1 in /usr/local/lib/python3.7/dist-packages (from requests) (1.24.3)\n"
          ]
        }
      ]
    },
    {
      "cell_type": "code",
      "source": [
        "import requests\n",
        "from bs4 import BeautifulSoup\n",
        "\n",
        "headers = {'User-Agent' : 'Mozilla/5.0 (Windows NT 10.0; Win64; x64)AppleWebKit/537.36 (KHTML, like Gecko) Chrome/73.0.3683.86 Safari/537.36'}\n",
        "data = requests.get('https://search.naver.com/search.naver?where=news&ie=utf8&sm=nws_hty&query=삼성전자',headers=headers)\n",
        "\n",
        "soup = BeautifulSoup(data.text, 'html.parser')\n",
        "\n",
        "lis = soup.select('#main_pack > section > div > div.group_news > ul > li')\n",
        "\n",
        "for li in lis:\n",
        "  a = li.select_one('a.news_tit')\n",
        "  print(a.text, a['href'])"
      ],
      "metadata": {
        "colab": {
          "base_uri": "https://localhost:8080/"
        },
        "id": "NH84jN4p5zYg",
        "outputId": "d09869d4-ba9b-4152-8bfe-48f869c077e2"
      },
      "execution_count": 38,
      "outputs": [
        {
          "output_type": "stream",
          "name": "stdout",
          "text": [
            "[2보] 검찰, '급식 일감 몰아주기' 최지성·삼성전자 기소 https://www.yna.co.kr/view/AKR20221116096000004?input=1195m\n",
            "검찰, ‘웰스토리 부당지원’ 최지성·삼성전자 기소... 배임은 ‘무혐의’ https://biz.chosun.com/topics/law_firm/2022/11/16/J6XUWLVNBJCZTPP2IEREDTRZKA/?utm_source=naver&utm_medium=original&utm_campaign=biz\n",
            "검찰, '급식 일감 몰아주기' 최지성·삼성전자 기소 https://news.imaeil.com/page/view/2022111614222309856\n",
            "삼성 스마트 TV, 英 왕립 시각장애인협회 접근성 인증 http://www.newsis.com/view/?id=NISX20221116_0002087692&cID=13001&pID=13000\n",
            "검찰, ‘급식 일감 몰아주기’ 최지성·삼성전자 기소 https://news.kmib.co.kr/article/view.asp?arcid=0017678322&code=61121311&cp=nv\n",
            "삼성전자 TV, 英왕립 시각장애인협회 접근성 인증…2회 연속 https://www.news1.kr/articles/4865801\n",
            "[단독]대한상의, 부산엑스포 특별회비 10대 그룹에 311억 걷기로…삼성·SK 각... https://www.khan.co.kr/economy/business/article/202211161119001\n",
            "[단독] 삼성전자, 인도 미디어 테크 스타트업 인수 http://news.heraldcorp.com/view.php?ud=20221116000242\n",
            "한종희 삼성전자 부회장 “SW 리더십이 기술 혁신 근간” http://www.edaily.co.kr/news/newspath.asp?newsid=03955686632526048\n",
            "TV·스마트폰 수요 '뚝'…삼성·SK·LG 창고에 재고 '83조' 쌓였다 http://news.mt.co.kr/mtview.php?no=2022111417244454373\n"
          ]
        }
      ]
    },
    {
      "cell_type": "code",
      "source": [
        "import requests\n",
        "from bs4 import BeautifulSoup\n",
        "\n",
        "def get_news(keyword):\n",
        "  headers = {'User-Agent' : 'Mozilla/5.0 (Windows NT 10.0; Win64; x64)AppleWebKit/537.36 (KHTML, like Gecko) Chrome/73.0.3683.86 Safari/537.36'}\n",
        "  data = requests.get(f'https://search.naver.com/search.naver?where=news&ie=utf8&sm=nws_hty&query={keyword}',headers=headers)\n",
        "\n",
        "  soup = BeautifulSoup(data.text, 'html.parser')\n",
        "\n",
        "  lis = soup.select('#main_pack > section > div > div.group_news > ul > li')\n",
        "\n",
        "  for li in lis:\n",
        "    a = li.select_one('a.news_tit')\n",
        "    print(a.text, a['href'])\n",
        "\n",
        "get_news('현대자동차')\n",
        "get_news('LG전자')"
      ],
      "metadata": {
        "colab": {
          "base_uri": "https://localhost:8080/"
        },
        "id": "3RdiKS00D7nU",
        "outputId": "a24f453a-557f-4c63-d78d-6fba8b1268e0"
      },
      "execution_count": 44,
      "outputs": [
        {
          "output_type": "stream",
          "name": "stdout",
          "text": [
            "'개인정보 보호 소홀' 현대차·농심 등에 과태료 1천800만원 https://www.yna.co.kr/view/AKR20221116081700530?input=1195m\n",
            "블루탑, 현대차그룹 전장부품 구매·개발 그룹장 출신 영입 https://www.sedaily.com/NewsView/26DNC65IGU\n",
            "[단독] 현대차그룹, 중대재해 최다…현대건설 등 6개사 9명 사망 https://www.hani.co.kr/arti/society/labor/1067489.html\n",
            "[단독]대한상의, 부산엑스포 특별회비 10대 그룹에 311억 걷기로…삼성·SK 각... https://www.khan.co.kr/economy/business/article/202211161119001\n",
            "현대차 회계감사 안진, LG는 삼일이 맡아 https://www.mk.co.kr/article/10532514\n",
            "현대차그룹 자동차 스마트폰 원격 서비스 5시간 먹통 https://www.ytn.co.kr/_ln/0102_202211152312338921\n",
            "[단독]정의선 현대차그룹 회장, 사우디 빈 살만과 ‘수소트램’ 논의한다 https://www.etoday.co.kr/news/view/2193081\n",
            "현대차 아이오닉6, 유럽서 돌풍… 사전예약 하루 만에 초도물량 2500대 완판 http://moneys.mt.co.kr/news/mwView.php?no=2022111608033755246\n",
            "현대차, 제네시스 컨버터블 전기차 컨셉트 공개 https://www.hani.co.kr/arti/economy/marketing/1067455.html\n",
            "현대차그룹, 인니 새 수도에 하늘의 KTX 띄운다…“AAM 생태계 구축” http://www.ichannela.com/news/main/news_detailPage.do?publishId=000000322552\n",
            "LG전자 스마트 통신기술로 어린이 교통사고 막는다 http://www.newsis.com/view/?id=NISX20221116_0002087773&cID=13001&pID=13000\n",
            "LG전자, 어린이 등 보행자 車·킥보드 충돌사고 예방 앱 만든다 https://www.news1.kr/articles/4865865\n",
            "LG그룹 역량 집결…LG전자·이노텍 '전장'에 힘 싣는다 http://www.newsis.com/view/?id=NISX20221115_0002087241&cID=13001&pID=13000\n",
            "LG전자, 獨 의료기기 박람회서 수술용 미니 LED 모니터 첫선 https://www.yna.co.kr/view/AKR20221115023100003?input=1195m\n",
            "LG전자, 의료기기 시장 공략…미니모니터 첫 공개 https://www.hankyung.com/economy/article/202211150536i\n",
            "87兆 쌓인 전자·가전 재고 비상… 원재룟값도 천정부지 https://biz.chosun.com/it-science/ict/2022/11/16/N346C77TMFBYZKYUR4XSKD7BDI/?utm_source=naver&utm_medium=original&utm_campaign=biz\n",
            "\"혈액·환부 뚜렷\"…LG전자, 세계 의료인 깜짝 놀랄 모니터 공개 http://news.mt.co.kr/mtview.php?no=2022111509193893525\n",
            "삼성·LG전자 'TV 불황기' 수요 둔화에 점유율도 '뚝' http://www.newsis.com/view/?id=NISX20221115_0002086440&cID=13001&pID=13000\n",
            "LG전자, 김장철 맞아 '김치톡톡' 팝업스토어 운영 https://www.yna.co.kr/view/AKR20221114020900003?input=1195m\n",
            "LG전자, 서울시와 함께 어린이 교통안전 위한 시스템 구축한다 http://www.biztribune.co.kr/news/articleView.html?idxno=270606\n"
          ]
        }
      ]
    },
    {
      "cell_type": "code",
      "source": [
        "import requests\n",
        "from bs4 import BeautifulSoup\n",
        "\n",
        "from openpyxl import Workbook\n",
        "\n",
        "from datetime import datetime\n",
        "\n",
        "def get_news(keyword):\n",
        "  headers = {'User-Agent' : 'Mozilla/5.0 (Windows NT 10.0; Win64; x64)AppleWebKit/537.36 (KHTML, like Gecko) Chrome/73.0.3683.86 Safari/537.36'}\n",
        "  data = requests.get(f'https://search.naver.com/search.naver?where=news&ie=utf8&sm=nws_hty&query={keyword}',headers=headers)\n",
        "\n",
        "  soup = BeautifulSoup(data.text, 'html.parser')\n",
        "\n",
        "  lis = soup.select('#main_pack > section > div > div.group_news > ul > li')\n",
        "\n",
        "  for li in lis:\n",
        "    a = li.select_one('a.news_tit')\n",
        "    row = (a.text, a['href'])\n",
        "    sheet.append(row)\n",
        "\n",
        "    today = datetime.today().strftime(\"%Y-%m-%d\")\n",
        "\n",
        "    wb.save(f\"/content/news/{today}_{keyword}.xlsx\")\n",
        "    wb.close()"
      ],
      "metadata": {
        "id": "Ds6f5jBYM8Hu"
      },
      "execution_count": 78,
      "outputs": []
    },
    {
      "cell_type": "code",
      "source": [
        "keywords = ['삼성전자','LG에너지솔루션','SK하이닉스','NAVER','삼성바이오로직스','삼성전자우','카카오','삼성SDI','현대차','LG화학','기아','POSCO홀딩스','KB금융','카카오뱅크','셀트리온','신한지주','삼성물산','현대모비스','SK이노베이션','LG전자','카카오페이','SK','한국전력','크래프톤','하나금융지주','LG생활건강','HMM','삼성생명','하이브','두산중공업','SK텔레콤','삼성전기','SK바이오사이언스','LG','S-Oil','고려아연','KT&G','우리금융지주','대한항공','삼성에스디에스','현대중공업','엔씨소프트','삼성화재','아모레퍼시픽','KT','포스코케미칼','넷마블','SK아이이테크놀로지','LG이노텍','기업은행']\n",
        "\n",
        "for keyword in keywords:\n",
        "  print(keyword)\n",
        "  get_news(keyword)"
      ],
      "metadata": {
        "id": "HcVF6DpNQlRi"
      },
      "execution_count": null,
      "outputs": []
    },
    {
      "cell_type": "code",
      "source": [
        "import urllib.request\n",
        "\n",
        "url = 'https://ssl.pstatic.net/imgfinance/chart/item/area/year3/005930.png'\n",
        "urllib.request.urlretrieve(url, \"삼성전자.png\")"
      ],
      "metadata": {
        "colab": {
          "base_uri": "https://localhost:8080/"
        },
        "id": "ThMx5V1lb3VF",
        "outputId": "39b3857b-f1f1-4b5a-c703-fb2f275800e8"
      },
      "execution_count": 87,
      "outputs": [
        {
          "output_type": "execute_result",
          "data": {
            "text/plain": [
              "('삼성전자.png', <http.client.HTTPMessage at 0x7ffa6993b110>)"
            ]
          },
          "metadata": {},
          "execution_count": 87
        }
      ]
    },
    {
      "cell_type": "code",
      "source": [
        "import openpyxl\n",
        "\n",
        "import urllib.request\n",
        "\n",
        "wb = openpyxl.load_workbook('/content/관리종목.xlsx')\n",
        "sheet = wb['종목']\n",
        "\n",
        "new_rows = list(sheet.rows)[1:]\n",
        "\n",
        "for row in new_rows:\n",
        "  url = f'https://ssl.pstatic.net/imgfinance/chart/item/area/year3/{row[1].value}.png'\n",
        "  urllib.request.urlretrieve(url, f\"{row[0].value}.png\")"
      ],
      "metadata": {
        "id": "qlyP3kngfB9A"
      },
      "execution_count": 100,
      "outputs": []
    },
    {
      "cell_type": "code",
      "source": [],
      "metadata": {
        "id": "_KVx-WbrgFoa"
      },
      "execution_count": null,
      "outputs": []
    }
  ]
}